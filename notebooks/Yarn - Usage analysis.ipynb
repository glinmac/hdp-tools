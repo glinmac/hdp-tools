{
 "cells": [
  {
   "cell_type": "markdown",
   "metadata": {},
   "source": [
    "# YARN / MapReduce - Usage Analysis"
   ]
  },
  {
   "cell_type": "code",
   "execution_count": null,
   "metadata": {
    "collapsed": false
   },
   "outputs": [],
   "source": [
    "from __future__ import print_function\n",
    "import json\n",
    "import pprint\n",
    "import pandas as pd\n",
    "import numpy as np\n",
    "from pandas.io.json import json_normalize\n",
    "import matplotlib.pyplot as plt\n",
    "import requests\n",
    "from requests_kerberos import HTTPKerberosAuth\n",
    "from datetime import datetime\n",
    "plt.style.use('seaborn-deep')\n",
    "%matplotlib inline"
   ]
  },
  {
   "cell_type": "markdown",
   "metadata": {},
   "source": [
    "## Yarn "
   ]
  },
  {
   "cell_type": "markdown",
   "metadata": {},
   "source": [
    "### Fetching YARN statistics"
   ]
  },
  {
   "cell_type": "markdown",
   "metadata": {},
   "source": [
    "Connect to an edge node to fetch the statistics from the YARN timeline server"
   ]
  },
  {
   "cell_type": "code",
   "execution_count": null,
   "metadata": {
    "collapsed": false
   },
   "outputs": [],
   "source": [
    "host = 'SOMESERVER'\n",
    "yarn_timeline = 'SOMESERVER'\n",
    "!ssh -q {host} \"kinit -kt /path/to/keytab <principalname>\"\n",
    "!ssh -q {host} \"curl -q --negotiate -u : -L -H 'Accept: application/json' -X GET  http://{yarn_timeline}:8188/ws/v1/applicationhistory/apps > yarn-app-history\"\n",
    "!scp -q {host}:yarn-app-history data/yarn-app-history.json"
   ]
  },
  {
   "cell_type": "code",
   "execution_count": null,
   "metadata": {
    "collapsed": false
   },
   "outputs": [],
   "source": [
    "yarn_data = json_normalize(json.loads(open('data/yarn-app-history.json').read())['app'])\n",
    "yarn_data['submittedTimeAsDay'] = yarn_data['submittedTime'].apply(lambda x: datetime.utcfromtimestamp(x/1000).date())\n",
    "yarn_data.head(1)"
   ]
  },
  {
   "cell_type": "code",
   "execution_count": null,
   "metadata": {
    "collapsed": false
   },
   "outputs": [],
   "source": [
    "# We should be able to do the same directly with requests/kerberos if direct connection is possible. \n",
    "#yarn_stats_uri = 'http://someserver:8188/ws/v1/applicationhistory/apps'\n",
    "#response = requests.get(yarn_stats_uri, auth=HTTPKerberosAuth())\n",
    "#print(response.text)\n",
    "#if response.status_code != 200:\n",
    "#    raise RuntimeError('Error fetching yarn statistics')\n",
    "#yarn_source_apps = response.json()['apps']\n",
    "#print('%d YARN applications retrieved' % len(yarn_source_apps))\n",
    "#yarn_data = json_normalize(yarn_source_apps)\n",
    "#yarn_data_data.head()"
   ]
  },
  {
   "cell_type": "markdown",
   "metadata": {},
   "source": [
    "### YARN Analysis"
   ]
  },
  {
   "cell_type": "code",
   "execution_count": null,
   "metadata": {
    "collapsed": false
   },
   "outputs": [],
   "source": [
    "ax = yarn_data.groupby('type').size()\\\n",
    "    .plot(kind='barh', title='Repartition of jobs by type', figsize=(15, 5))\n",
    "ax.set_ylabel('')\n",
    "ax.set_xlabel('Number of jobs')"
   ]
  },
  {
   "cell_type": "code",
   "execution_count": null,
   "metadata": {
    "collapsed": false
   },
   "outputs": [],
   "source": [
    "ax = yarn_data.groupby(['submittedTimeAsDay', 'type']).size()\\\n",
    "    .unstack('type')\\\n",
    "    .plot(kind='bar', stacked=True, title='Repartition of jobs by type', figsize=(15,5))\n",
    "ax.set_xlabel('')\n",
    "ax.set_ylabel('Number of jobs')"
   ]
  },
  {
   "cell_type": "code",
   "execution_count": null,
   "metadata": {
    "collapsed": false
   },
   "outputs": [],
   "source": [
    "ax = yarn_data.groupby(['user', 'type']).size().unstack()\\\n",
    "    .plot(kind='barh', stacked=True, title='Repartition of jobs by type and user', figsize=(15,5))\n",
    "ax.set_ylabel('')\n",
    "ax.set_xlabel('Number of jobs')"
   ]
  },
  {
   "cell_type": "code",
   "execution_count": null,
   "metadata": {
    "collapsed": false
   },
   "outputs": [],
   "source": [
    "ax = yarn_data.groupby('user').size().sort_values(ascending=True)\\\n",
    "    .plot(kind='barh', figsize=(15,5), title='Total number of jobs by user')\n",
    "ax.set_xlabel('Number of jobs')\n",
    "ax.set_ylabel('')"
   ]
  },
  {
   "cell_type": "code",
   "execution_count": null,
   "metadata": {
    "collapsed": false
   },
   "outputs": [],
   "source": [
    "ax = yarn_data.groupby(['submittedTimeAsDay', 'user']).size().unstack()\\\n",
    "    .plot(kind='bar', stacked=True, title='Repartition of jobs by user', figsize=(15,5))\n",
    "ax.set_ylabel('Number of jobs')\n",
    "ax.set_xlabel('')"
   ]
  },
  {
   "cell_type": "code",
   "execution_count": null,
   "metadata": {
    "collapsed": false
   },
   "outputs": [],
   "source": [
    "ax = yarn_data.groupby(['submittedTimeAsDay', 'finalAppStatus']).size().unstack()\\\n",
    "    .plot(kind='bar', stacked=True, title='Repartition of jobs by status', figsize=(15,5))\n",
    "ax.set_ylabel('Number of jobs')\n",
    "ax.set_xlabel('')"
   ]
  },
  {
   "cell_type": "code",
   "execution_count": null,
   "metadata": {
    "collapsed": false
   },
   "outputs": [],
   "source": [
    "mapreduce_stats = yarn_data[(yarn_data['type'] == 'MAPREDUCE') & (yarn_data['elapsedTime'] != -1)]"
   ]
  },
  {
   "cell_type": "code",
   "execution_count": null,
   "metadata": {
    "collapsed": false
   },
   "outputs": [],
   "source": [
    "mr_elapsedTime=pd.concat( [\n",
    "        mapreduce_stats.groupby('user')['elapsedTime'].min().to_frame().rename(columns={'elapsedTime':'min'}),\n",
    "        mapreduce_stats.groupby('user')['elapsedTime'].mean().to_frame().rename(columns={'elapsedTime':'mean'}),\n",
    "        mapreduce_stats.groupby('user')['elapsedTime'].max().to_frame().rename(columns={'elapsedTime':'max'})\n",
    "], axis=1)"
   ]
  },
  {
   "cell_type": "code",
   "execution_count": null,
   "metadata": {
    "collapsed": false
   },
   "outputs": [],
   "source": [
    "ax = mr_elapsedTime['mean'].apply(lambda x: x/60.)\\\n",
    "    .plot(kind='barh', figsize=(15,5), title='Average elapsed time for MR jobs')\n",
    "ax.set_xlabel('Time in minutes')\n",
    "ax.set_ylabel('')"
   ]
  },
  {
   "cell_type": "code",
   "execution_count": null,
   "metadata": {
    "collapsed": true
   },
   "outputs": [],
   "source": [
    "tez_stats = yarn_data[(yarn_data['type'] == 'TEZ') & (yarn_data['elapsedTime'] != -1)]\n",
    "tez_elapsedTime = pd.concat( [\n",
    "        tez_stats.groupby('user')['elapsedTime'].min().to_frame().rename(columns={'elapsedTime':'min'}),\n",
    "        tez_stats.groupby('user')['elapsedTime'].mean().to_frame().rename(columns={'elapsedTime':'mean'}),\n",
    "        tez_stats.groupby('user')['elapsedTime'].max().to_frame().rename(columns={'elapsedTime':'max'})\n",
    "], axis=1)"
   ]
  },
  {
   "cell_type": "code",
   "execution_count": null,
   "metadata": {
    "collapsed": false
   },
   "outputs": [],
   "source": [
    "ax = tez_elapsedTime['mean'].apply(lambda x: x/60.)\\\n",
    "    .plot(kind='barh', figsize=(15,5), title='Average elapsed time for Tez jobs')\n",
    "ax.set_xlabel('Time in minutes')\n",
    "ax.set_ylabel('')"
   ]
  },
  {
   "cell_type": "markdown",
   "metadata": {},
   "source": [
    "## MapReduce statistics"
   ]
  },
  {
   "cell_type": "markdown",
   "metadata": {},
   "source": [
    "## Fetching mapreduce statistics"
   ]
  },
  {
   "cell_type": "code",
   "execution_count": null,
   "metadata": {
    "collapsed": false,
    "scrolled": true
   },
   "outputs": [],
   "source": [
    "mapreduce_uri = 'http://SOMESERVER:19888/ws/v1/history/mapreduce/jobs'\n",
    "response = requests.get(mapreduce_uri)\n",
    "if response.status_code != 200:\n",
    "    raise RuntimeError('Error fetching mapreduce statistics')\n",
    "mapreduce_source_jobs = response.json()['jobs']['job']\n",
    "mapreduce_data = json_normalize(mapreduce_source_jobs)"
   ]
  },
  {
   "cell_type": "code",
   "execution_count": null,
   "metadata": {
    "collapsed": false
   },
   "outputs": [],
   "source": [
    "mapreduce_data.head(2)"
   ]
  },
  {
   "cell_type": "code",
   "execution_count": null,
   "metadata": {
    "collapsed": false
   },
   "outputs": [],
   "source": [
    "mapreduce_data.describe()"
   ]
  },
  {
   "cell_type": "code",
   "execution_count": null,
   "metadata": {
    "collapsed": false
   },
   "outputs": [],
   "source": [
    "mapsTotal=pd.concat( [\n",
    "        mapreduce_data.groupby('user')['mapsTotal'].min().to_frame().rename(columns={'mapsTotal':'min'}),\n",
    "        mapreduce_data.groupby('user')['mapsTotal'].mean().to_frame().rename(columns={'mapsTotal':'mean'}),\n",
    "        mapreduce_data.groupby('user')['mapsTotal'].max().to_frame().rename(columns={'mapsTotal':'max'})\n",
    "], axis=1)"
   ]
  },
  {
   "cell_type": "code",
   "execution_count": null,
   "metadata": {
    "collapsed": false
   },
   "outputs": [],
   "source": [
    "ax = mapsTotal.plot(kind='barh', figsize=(15,5), title='Overview of num maps per user')\n",
    "ax.set_ylabel('')\n",
    "ax.set_xlabel('Number of map tasks')"
   ]
  }
 ],
 "metadata": {
  "kernelspec": {
   "display_name": "Python 2",
   "language": "python",
   "name": "python2"
  },
  "language_info": {
   "codemirror_mode": {
    "name": "ipython",
    "version": 2
   },
   "file_extension": ".py",
   "mimetype": "text/x-python",
   "name": "python",
   "nbconvert_exporter": "python",
   "pygments_lexer": "ipython2",
   "version": "2.7.10"
  },
  "nav_menu": {},
  "toc": {
   "navigate_menu": true,
   "number_sections": true,
   "sideBar": true,
   "threshold": 6,
   "toc_cell": false,
   "toc_section_display": "block",
   "toc_window_display": true
  },
  "toc_position": {
   "height": "570px",
   "left": "0px",
   "right": "1072px",
   "top": "106px",
   "width": "208px"
  }
 },
 "nbformat": 4,
 "nbformat_minor": 0
}
